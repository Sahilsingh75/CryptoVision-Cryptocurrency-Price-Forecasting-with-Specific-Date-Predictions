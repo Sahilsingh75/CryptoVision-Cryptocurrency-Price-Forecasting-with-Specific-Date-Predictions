{
 "cells": [
  {
   "cell_type": "code",
   "execution_count": 1,
   "id": "f9750fa3-2466-4ca7-8146-6db0e8a4fb9d",
   "metadata": {},
   "outputs": [
    {
     "name": "stdout",
     "output_type": "stream",
     "text": [
      "YF.download() has changed argument auto_adjust default to True\n"
     ]
    },
    {
     "name": "stderr",
     "output_type": "stream",
     "text": [
      "[*********************100%***********************]  1 of 1 completed\n"
     ]
    },
    {
     "name": "stdout",
     "output_type": "stream",
     "text": [
      "Data for BTC-USD saved to btc_data.csv\n"
     ]
    },
    {
     "name": "stderr",
     "output_type": "stream",
     "text": [
      "[*********************100%***********************]  1 of 1 completed\n"
     ]
    },
    {
     "name": "stdout",
     "output_type": "stream",
     "text": [
      "Data for ETH-USD saved to eth_data.csv\n"
     ]
    },
    {
     "name": "stderr",
     "output_type": "stream",
     "text": [
      "[*********************100%***********************]  1 of 1 completed"
     ]
    },
    {
     "name": "stdout",
     "output_type": "stream",
     "text": [
      "Data for XRP-USD saved to xrp_data.csv\n"
     ]
    },
    {
     "name": "stderr",
     "output_type": "stream",
     "text": [
      "\n"
     ]
    }
   ],
   "source": [
    "import yfinance as yf\n",
    "import pandas as pd\n",
    "from datetime import datetime, timedelta\n",
    "\n",
    "def fetch_crypto_data(symbol, start_date, end_date, filename):\n",
    "    data = yf.download(symbol, start=start_date, end=end_date, interval='1d')\n",
    "    data.to_csv(filename)\n",
    "    print(f\"Data for {symbol} saved to {filename}\")\n",
    "\n",
    "# Define parameters\n",
    "crypto_symbols = {'BTC-USD': 'btc_data.csv', 'ETH-USD': 'eth_data.csv', 'XRP-USD': 'xrp_data.csv'}\n",
    "end_date = datetime.today().strftime('%Y-%m-%d')\n",
    "start_date = (datetime.today() - timedelta(days=6*365)).strftime('%Y-%m-%d')\n",
    "\n",
    "# Fetch and save data\n",
    "for symbol, filename in crypto_symbols.items():\n",
    "    fetch_crypto_data(symbol, start_date, end_date, filename)"
   ]
  },
  {
   "cell_type": "code",
   "execution_count": 4,
   "id": "de5c5176-9848-4160-8dcd-7a9c6a46ea97",
   "metadata": {},
   "outputs": [
    {
     "name": "stdout",
     "output_type": "stream",
     "text": [
      "Processed data saved to processed_btc_data.csv\n",
      "Processed data saved to processed_eth_data.csv\n",
      "Processed data saved to processed_xrp_data.csv\n"
     ]
    }
   ],
   "source": [
    "import pandas as pd\n",
    "import numpy as np\n",
    "\n",
    "def compute_indicators(df):\n",
    "    # Convert relevant columns to numeric\n",
    "    df[['Close', 'High', 'Low', 'Open', 'Volume']] = df[['Close', 'High', 'Low', 'Open', 'Volume']].apply(pd.to_numeric, errors='coerce')\n",
    "\n",
    "    # Drop any remaining non-numeric rows\n",
    "    df = df.dropna()\n",
    "\n",
    "    # Simple Moving Averages (SMA)\n",
    "    df['SMA_20'] = df['Close'].rolling(window=20).mean()\n",
    "    df['SMA_50'] = df['Close'].rolling(window=50).mean()\n",
    "    \n",
    "    # Exponential Moving Average (EMA)\n",
    "    df['EMA_12'] = df['Close'].ewm(span=12, adjust=False).mean()\n",
    "    \n",
    "    # Relative Strength Index (RSI)\n",
    "    delta = df['Close'].diff()\n",
    "    gain = np.where(delta > 0, delta, 0)\n",
    "    loss = np.where(delta < 0, -delta, 0)\n",
    "    \n",
    "    avg_gain = pd.Series(gain).rolling(window=14).mean()\n",
    "    avg_loss = pd.Series(loss).rolling(window=14).mean()\n",
    "    rs = avg_gain / avg_loss\n",
    "    df['RSI'] = 100 - (100 / (1 + rs))\n",
    "\n",
    "    # MACD and Signal Line\n",
    "    df['MACD'] = df['Close'].ewm(span=26, adjust=False).mean() - df['Close'].ewm(span=12, adjust=False).mean()\n",
    "    df['MACD_Signal'] = df['MACD'].ewm(span=9, adjust=False).mean()\n",
    "    \n",
    "    return df\n",
    "\n",
    "def process_crypto_data(filename):\n",
    "    # Read CSV, skipping first two rows\n",
    "    df = pd.read_csv(filename, skiprows=2)\n",
    "\n",
    "    # Rename columns correctly\n",
    "    df.columns = ['Date', 'Close', 'High', 'Low', 'Open', 'Volume']\n",
    "\n",
    "    # Convert Date column to datetime\n",
    "    df['Date'] = pd.to_datetime(df['Date'], format='%Y-%m-%d', errors='coerce')\n",
    "\n",
    "    # Compute indicators\n",
    "    df = compute_indicators(df)\n",
    "\n",
    "    # Save processed file\n",
    "    processed_filename = f\"processed_{filename}\"\n",
    "    df.to_csv(processed_filename, index=False)\n",
    "    print(f\"Processed data saved to {processed_filename}\")\n",
    "\n",
    "# Process all three datasets\n",
    "for crypto in ['btc_data.csv', 'eth_data.csv', 'xrp_data.csv']:\n",
    "    process_crypto_data(crypto)\n"
   ]
  }
 ],
 "metadata": {
  "kernelspec": {
   "display_name": "Python 3 (ipykernel)",
   "language": "python",
   "name": "python3"
  },
  "language_info": {
   "codemirror_mode": {
    "name": "ipython",
    "version": 3
   },
   "file_extension": ".py",
   "mimetype": "text/x-python",
   "name": "python",
   "nbconvert_exporter": "python",
   "pygments_lexer": "ipython3",
   "version": "3.11.9"
  }
 },
 "nbformat": 4,
 "nbformat_minor": 5
}
